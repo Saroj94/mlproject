{
 "cells": [
  {
   "cell_type": "code",
   "execution_count": 23,
   "metadata": {},
   "outputs": [],
   "source": [
    "##Basic library\n",
    "import pandas as pd\n",
    "import numpy as np\n",
    "import matplotlib.pyplot as plt\n",
    "import seaborn as sns\n",
    "\n",
    "##modeling dependencies\n",
    "from sklearn.metrics import mean_squared_error,r2_score,mean_absolute_error\n",
    "from sklearn.neighbors import KNeighborsRegressor\n",
    "from sklearn.tree import DecisionTreeRegressor\n",
    "from sklearn.ensemble import RandomForestRegressor,AdaBoostRegressor\n",
    "from sklearn.svm import SVR\n",
    "from sklearn.linear_model import Ridge,Lasso,LinearRegression\n",
    "from sklearn.model_selection import RandomizedSearchCV\n",
    "from xgboost import XGBRegressor\n",
    "import warnings\n",
    "warnings.filterwarnings('ignore')"
   ]
  },
  {
   "cell_type": "code",
   "execution_count": 26,
   "metadata": {},
   "outputs": [],
   "source": [
    "df=pd.read_csv('student.csv')"
   ]
  },
  {
   "cell_type": "code",
   "execution_count": 27,
   "metadata": {},
   "outputs": [
    {
     "data": {
      "text/html": [
       "<div>\n",
       "<style scoped>\n",
       "    .dataframe tbody tr th:only-of-type {\n",
       "        vertical-align: middle;\n",
       "    }\n",
       "\n",
       "    .dataframe tbody tr th {\n",
       "        vertical-align: top;\n",
       "    }\n",
       "\n",
       "    .dataframe thead th {\n",
       "        text-align: right;\n",
       "    }\n",
       "</style>\n",
       "<table border=\"1\" class=\"dataframe\">\n",
       "  <thead>\n",
       "    <tr style=\"text-align: right;\">\n",
       "      <th></th>\n",
       "      <th>gender</th>\n",
       "      <th>race/ethnicity</th>\n",
       "      <th>parental level of education</th>\n",
       "      <th>lunch</th>\n",
       "      <th>test preparation course</th>\n",
       "      <th>math score</th>\n",
       "      <th>reading score</th>\n",
       "      <th>writing score</th>\n",
       "      <th>Total Score</th>\n",
       "      <th>AverageScore</th>\n",
       "    </tr>\n",
       "  </thead>\n",
       "  <tbody>\n",
       "    <tr>\n",
       "      <th>0</th>\n",
       "      <td>female</td>\n",
       "      <td>group B</td>\n",
       "      <td>bachelor's degree</td>\n",
       "      <td>standard</td>\n",
       "      <td>none</td>\n",
       "      <td>72</td>\n",
       "      <td>72</td>\n",
       "      <td>74</td>\n",
       "      <td>218</td>\n",
       "      <td>72.67</td>\n",
       "    </tr>\n",
       "    <tr>\n",
       "      <th>1</th>\n",
       "      <td>female</td>\n",
       "      <td>group C</td>\n",
       "      <td>some college</td>\n",
       "      <td>standard</td>\n",
       "      <td>completed</td>\n",
       "      <td>69</td>\n",
       "      <td>90</td>\n",
       "      <td>88</td>\n",
       "      <td>247</td>\n",
       "      <td>82.33</td>\n",
       "    </tr>\n",
       "    <tr>\n",
       "      <th>2</th>\n",
       "      <td>female</td>\n",
       "      <td>group B</td>\n",
       "      <td>master's degree</td>\n",
       "      <td>standard</td>\n",
       "      <td>none</td>\n",
       "      <td>90</td>\n",
       "      <td>95</td>\n",
       "      <td>93</td>\n",
       "      <td>278</td>\n",
       "      <td>92.67</td>\n",
       "    </tr>\n",
       "    <tr>\n",
       "      <th>3</th>\n",
       "      <td>male</td>\n",
       "      <td>group A</td>\n",
       "      <td>associate's degree</td>\n",
       "      <td>free/reduced</td>\n",
       "      <td>none</td>\n",
       "      <td>47</td>\n",
       "      <td>57</td>\n",
       "      <td>44</td>\n",
       "      <td>148</td>\n",
       "      <td>49.33</td>\n",
       "    </tr>\n",
       "    <tr>\n",
       "      <th>4</th>\n",
       "      <td>male</td>\n",
       "      <td>group C</td>\n",
       "      <td>some college</td>\n",
       "      <td>standard</td>\n",
       "      <td>none</td>\n",
       "      <td>76</td>\n",
       "      <td>78</td>\n",
       "      <td>75</td>\n",
       "      <td>229</td>\n",
       "      <td>76.33</td>\n",
       "    </tr>\n",
       "  </tbody>\n",
       "</table>\n",
       "</div>"
      ],
      "text/plain": [
       "   gender race/ethnicity parental level of education         lunch  \\\n",
       "0  female        group B           bachelor's degree      standard   \n",
       "1  female        group C                some college      standard   \n",
       "2  female        group B             master's degree      standard   \n",
       "3    male        group A          associate's degree  free/reduced   \n",
       "4    male        group C                some college      standard   \n",
       "\n",
       "  test preparation course  math score  reading score  writing score  \\\n",
       "0                    none          72             72             74   \n",
       "1               completed          69             90             88   \n",
       "2                    none          90             95             93   \n",
       "3                    none          47             57             44   \n",
       "4                    none          76             78             75   \n",
       "\n",
       "   Total Score  AverageScore  \n",
       "0          218         72.67  \n",
       "1          247         82.33  \n",
       "2          278         92.67  \n",
       "3          148         49.33  \n",
       "4          229         76.33  "
      ]
     },
     "execution_count": 27,
     "metadata": {},
     "output_type": "execute_result"
    }
   ],
   "source": [
    "df.head()\n"
   ]
  },
  {
   "cell_type": "markdown",
   "metadata": {},
   "source": [
    "# Preparing the X and Y variable"
   ]
  },
  {
   "cell_type": "code",
   "execution_count": 28,
   "metadata": {},
   "outputs": [],
   "source": [
    "x=df.drop('math score',axis=1)\n",
    "y=df['math score']"
   ]
  },
  {
   "cell_type": "code",
   "execution_count": 30,
   "metadata": {},
   "outputs": [
    {
     "data": {
      "text/plain": [
       "0      72\n",
       "1      69\n",
       "2      90\n",
       "3      47\n",
       "4      76\n",
       "       ..\n",
       "995    88\n",
       "996    62\n",
       "997    59\n",
       "998    68\n",
       "999    77\n",
       "Name: math score, Length: 1000, dtype: int64"
      ]
     },
     "execution_count": 30,
     "metadata": {},
     "output_type": "execute_result"
    }
   ],
   "source": [
    "y"
   ]
  },
  {
   "cell_type": "markdown",
   "metadata": {},
   "source": [
    "# Column transformer for categorical variable"
   ]
  },
  {
   "cell_type": "code",
   "execution_count": 34,
   "metadata": {},
   "outputs": [],
   "source": [
    "from sklearn.preprocessing import OneHotEncoder,StandardScaler\n",
    "from sklearn.compose import ColumnTransformer\n",
    "\n",
    "##categorical features\n",
    "cat_feat=x.select_dtypes(include='object').columns\n",
    "num_feat=x.select_dtypes(exclude='object').columns\n",
    "\n",
    "##create instances of the transformers\n",
    "ohe=OneHotEncoder()\n",
    "scaler=StandardScaler()\n",
    "\n",
    "##preprocessing\n",
    "preprocess_pipeline=ColumnTransformer([\n",
    "                                      ('one hot encoding',ohe,cat_feat),\n",
    "                                      ('Standard Scaler',scaler,num_feat)\n",
    "])\n"
   ]
  },
  {
   "cell_type": "code",
   "execution_count": 36,
   "metadata": {},
   "outputs": [],
   "source": [
    "x_trans=preprocess_pipeline.fit_transform(x)"
   ]
  },
  {
   "cell_type": "code",
   "execution_count": 38,
   "metadata": {},
   "outputs": [
    {
     "data": {
      "text/plain": [
       "array([[ 1.        ,  0.        ,  0.        , ...,  0.39149181,\n",
       "         0.34357423,  0.3438146 ],\n",
       "       [ 1.        ,  0.        ,  0.        , ...,  1.31326868,\n",
       "         1.0219275 ,  1.02170075],\n",
       "       [ 1.        ,  0.        ,  0.        , ...,  1.64247471,\n",
       "         1.74706375,  1.7473056 ],\n",
       "       ...,\n",
       "       [ 1.        ,  0.        ,  0.        , ..., -0.20107904,\n",
       "        -0.19443008, -0.19442421],\n",
       "       [ 1.        ,  0.        ,  0.        , ...,  0.58901542,\n",
       "         0.46053169,  0.46030435],\n",
       "       [ 1.        ,  0.        ,  0.        , ...,  1.18158627,\n",
       "         1.06871048,  1.0687177 ]], shape=(1000, 21))"
      ]
     },
     "execution_count": 38,
     "metadata": {},
     "output_type": "execute_result"
    }
   ],
   "source": [
    "x_trans"
   ]
  },
  {
   "cell_type": "markdown",
   "metadata": {},
   "source": [
    "# Train test splitting"
   ]
  },
  {
   "cell_type": "code",
   "execution_count": 40,
   "metadata": {},
   "outputs": [
    {
     "data": {
      "text/plain": [
       "((800, 21), (200, 21))"
      ]
     },
     "execution_count": 40,
     "metadata": {},
     "output_type": "execute_result"
    }
   ],
   "source": [
    "from sklearn.model_selection import train_test_split\n",
    "\n",
    "x_train,x_test,y_train,y_test=train_test_split(x_trans,y,test_size=.2,random_state=42)\n",
    "\n",
    "x_train.shape,x_test.shape\n"
   ]
  },
  {
   "cell_type": "markdown",
   "metadata": {},
   "source": [
    "## User define function to predict "
   ]
  },
  {
   "cell_type": "code",
   "execution_count": 54,
   "metadata": {},
   "outputs": [],
   "source": [
    "##user define function to evaluate the model\n",
    "def evaluate_model(true,predicted):\n",
    "    mse=mean_squared_error(true,predicted)\n",
    "    mae=mean_absolute_error(true,predicted)\n",
    "    r2score=r2_score(true,predicted)\n",
    "    rmse=np.sqrt(mse)\n",
    "    return mse,rmse,mae,r2score"
   ]
  },
  {
   "cell_type": "markdown",
   "metadata": {},
   "source": [
    "# Model training"
   ]
  },
  {
   "cell_type": "code",
   "execution_count": 59,
   "metadata": {},
   "outputs": [
    {
     "name": "stdout",
     "output_type": "stream",
     "text": [
      "Linear Regression\n",
      "Model Performance for Training set\n",
      "Mean squared error is  1.828895122664394e-27\n",
      "Root Mean Square error is  4.276558338973518e-14\n",
      "R2 square is  1.0\n",
      "Mean Absolute error is 3.4177105590060816e-14\n",
      "-----------------------------------------\n",
      "Model Performance for Test set\n",
      "Mean squared error is  1.8935186080200992e-27\n",
      "Root Mean Square error is  4.3514579258222174e-14\n",
      "R2 square is  1.0\n",
      "Mean Absolute error is 3.3644198538240746e-14\n",
      "*********************************** \n",
      "\n",
      "Ridge\n",
      "Model Performance for Training set\n",
      "Mean squared error is  0.11531699574658165\n",
      "Root Mean Square error is  0.33958356224437847\n",
      "R2 square is  0.9994884973089541\n",
      "Mean Absolute error is 0.272274317903116\n",
      "-----------------------------------------\n",
      "Model Performance for Test set\n",
      "Mean squared error is  0.11831327722155463\n",
      "Root Mean Square error is  0.34396697112012753\n",
      "R2 square is  0.9995137911763143\n",
      "Mean Absolute error is 0.2689558802747143\n",
      "*********************************** \n",
      "\n",
      "Lasso\n",
      "Model Performance for Training set\n",
      "Mean squared error is  22.44913627316779\n",
      "Root Mean Square error is  4.7380519491841575\n",
      "R2 square is  0.9004241001853918\n",
      "Mean Absolute error is 3.743851509183009\n",
      "-----------------------------------------\n",
      "Model Performance for Test set\n",
      "Mean squared error is  22.250724457729692\n",
      "Root Mean Square error is  4.717067357768987\n",
      "R2 square is  0.9085605705563541\n",
      "Mean Absolute error is 3.75786850482152\n",
      "*********************************** \n",
      "\n",
      "SVR\n",
      "Model Performance for Training set\n",
      "Mean squared error is  26.415728889636213\n",
      "Root Mean Square error is  5.13962341904893\n",
      "R2 square is  0.8828297916927788\n",
      "Mean Absolute error is 3.507234771712179\n",
      "-----------------------------------------\n",
      "Model Performance for Test set\n",
      "Mean squared error is  50.12066550912013\n",
      "Root Mean Square error is  7.079595010247417\n",
      "R2 square is  0.7940289510035402\n",
      "Mean Absolute error is 4.0043264763334365\n",
      "*********************************** \n",
      "\n",
      "Random Forest Regressor\n",
      "Model Performance for Training set\n",
      "Mean squared error is  1.2327918750000004\n",
      "Root Mean Square error is  1.1103116116658425\n",
      "R2 square is  0.9945318002998633\n",
      "Mean Absolute error is 0.8444375000000002\n",
      "-----------------------------------------\n",
      "Model Performance for Test set\n",
      "Mean squared error is  8.9685675\n",
      "Root Mean Square error is  2.994756667911435\n",
      "R2 square is  0.9631436407077552\n",
      "Mean Absolute error is 2.1580500000000002\n",
      "*********************************** \n",
      "\n",
      "Decision Tree Regressor\n",
      "Model Performance for Training set\n",
      "Mean squared error is  0.0\n",
      "Root Mean Square error is  0.0\n",
      "R2 square is  1.0\n",
      "Mean Absolute error is 0.0\n",
      "-----------------------------------------\n",
      "Model Performance for Test set\n",
      "Mean squared error is  15.6\n",
      "Root Mean Square error is  3.9496835316262997\n",
      "R2 square is  0.9358917458157036\n",
      "Mean Absolute error is 3.1\n",
      "*********************************** \n",
      "\n",
      "AdaBoost Regressor\n",
      "Model Performance for Training set\n",
      "Mean squared error is  15.293622414948928\n",
      "Root Mean Square error is  3.9107061274083135\n",
      "R2 square is  0.93216326032046\n",
      "Mean Absolute error is 3.1537340572850576\n",
      "-----------------------------------------\n",
      "Model Performance for Test set\n",
      "Mean squared error is  17.977450875052195\n",
      "Root Mean Square error is  4.239982414474404\n",
      "R2 square is  0.926121603186952\n",
      "Mean Absolute error is 3.3356840362069726\n",
      "*********************************** \n",
      "\n",
      "xgboost\n",
      "Model Performance for Training set\n",
      "Mean squared error is  0.012558799237012863\n",
      "Root Mean Square error is  0.11206604854733151\n",
      "R2 square is  0.999944269657135\n",
      "Mean Absolute error is 0.08290822058916092\n",
      "-----------------------------------------\n",
      "Model Performance for Test set\n",
      "Mean squared error is  5.572134494781494\n",
      "Root Mean Square error is  2.360536908159136\n",
      "R2 square is  0.9771012663841248\n",
      "Mean Absolute error is 1.7551690340042114\n",
      "*********************************** \n",
      "\n",
      "K Neighbors Regressor\n",
      "Model Performance for Training set\n",
      "Mean squared error is  18.299\n",
      "Root Mean Square error is  4.277733044499154\n",
      "R2 square is  0.9188325390992695\n",
      "Mean Absolute error is 3.3835\n",
      "-----------------------------------------\n",
      "Model Performance for Test set\n",
      "Mean squared error is  26.8204\n",
      "Root Mean Square error is  5.1788415693087195\n",
      "R2 square is  0.889781473043301\n",
      "Mean Absolute error is 4.045999999999999\n",
      "*********************************** \n",
      "\n"
     ]
    }
   ],
   "source": [
    "models={\n",
    "    'Linear Regression': LinearRegression(),\n",
    "    'Ridge':Ridge(),\n",
    "    'Lasso':Lasso(),\n",
    "    'SVR':SVR(),\n",
    "    'Random Forest Regressor':RandomForestRegressor(),\n",
    "    'Decision Tree Regressor':DecisionTreeRegressor(),\n",
    "    'AdaBoost Regressor':AdaBoostRegressor(),\n",
    "    'xgboost':XGBRegressor(),\n",
    "    'K Neighbors Regressor':KNeighborsRegressor()\n",
    "}\n",
    "\n",
    "model_list=[]\n",
    "r_2score=[]\n",
    "\n",
    "for i in range(len(models)):\n",
    "    model=list(models.values())[i] ##models.values() gives values only for key-value pair\n",
    "    model.fit(x_train,y_train) ##train model\n",
    "\n",
    "    ##prediction\n",
    "    y_train_pred=model.predict(x_train) ##prediction on training set\n",
    "    y_test_pred=model.predict(x_test) ##prediction on test set\n",
    "\n",
    "    ##evaluate the model\n",
    "    mse_train,rmse_train,mae_train,r2score_train=evaluate_model(y_train, y_train_pred)\n",
    "    mse_test,rmse_test,mae_test,r2score_test=evaluate_model(y_test, y_test_pred)\n",
    "\n",
    "    print(list(models.keys())[i])\n",
    "    model_list.append(list(models.keys())[i])\n",
    "\n",
    "    print('Model Performance for Training set')\n",
    "    print('Mean squared error is ', mse_train)\n",
    "    print('Root Mean Square error is ',rmse_train)\n",
    "    print('R2 square is ', r2score_train)\n",
    "    print('Mean Absolute error is', mae_train)\n",
    "\n",
    "    print('-----------------------------------------')\n",
    "\n",
    "    print('Model Performance for Test set')\n",
    "    print('Mean squared error is ', mse_test)\n",
    "    print('Root Mean Square error is ',rmse_test)\n",
    "    print('R2 square is ', r2score_test)\n",
    "    print('Mean Absolute error is', mae_test)\n",
    "    r_2score.append(r2score_test)\n",
    "\n",
    "    print('*'*35,'\\n')"
   ]
  },
  {
   "cell_type": "code",
   "execution_count": 65,
   "metadata": {},
   "outputs": [],
   "source": [
    "result=pd.DataFrame(list(zip(model_list,r_2score)),columns=['Models','r2 score']).sort_values(by=['r2 score'],ascending=False)"
   ]
  },
  {
   "cell_type": "code",
   "execution_count": 66,
   "metadata": {},
   "outputs": [
    {
     "data": {
      "text/html": [
       "<div>\n",
       "<style scoped>\n",
       "    .dataframe tbody tr th:only-of-type {\n",
       "        vertical-align: middle;\n",
       "    }\n",
       "\n",
       "    .dataframe tbody tr th {\n",
       "        vertical-align: top;\n",
       "    }\n",
       "\n",
       "    .dataframe thead th {\n",
       "        text-align: right;\n",
       "    }\n",
       "</style>\n",
       "<table border=\"1\" class=\"dataframe\">\n",
       "  <thead>\n",
       "    <tr style=\"text-align: right;\">\n",
       "      <th></th>\n",
       "      <th>Models</th>\n",
       "      <th>r2 score</th>\n",
       "    </tr>\n",
       "  </thead>\n",
       "  <tbody>\n",
       "    <tr>\n",
       "      <th>0</th>\n",
       "      <td>Linear Regression</td>\n",
       "      <td>1.000000</td>\n",
       "    </tr>\n",
       "    <tr>\n",
       "      <th>1</th>\n",
       "      <td>Ridge</td>\n",
       "      <td>0.999514</td>\n",
       "    </tr>\n",
       "    <tr>\n",
       "      <th>7</th>\n",
       "      <td>xgboost</td>\n",
       "      <td>0.977101</td>\n",
       "    </tr>\n",
       "    <tr>\n",
       "      <th>4</th>\n",
       "      <td>Random Forest Regressor</td>\n",
       "      <td>0.963144</td>\n",
       "    </tr>\n",
       "    <tr>\n",
       "      <th>5</th>\n",
       "      <td>Decision Tree Regressor</td>\n",
       "      <td>0.935892</td>\n",
       "    </tr>\n",
       "    <tr>\n",
       "      <th>6</th>\n",
       "      <td>AdaBoost Regressor</td>\n",
       "      <td>0.926122</td>\n",
       "    </tr>\n",
       "    <tr>\n",
       "      <th>2</th>\n",
       "      <td>Lasso</td>\n",
       "      <td>0.908561</td>\n",
       "    </tr>\n",
       "    <tr>\n",
       "      <th>8</th>\n",
       "      <td>K Neighbors Regressor</td>\n",
       "      <td>0.889781</td>\n",
       "    </tr>\n",
       "    <tr>\n",
       "      <th>3</th>\n",
       "      <td>SVR</td>\n",
       "      <td>0.794029</td>\n",
       "    </tr>\n",
       "  </tbody>\n",
       "</table>\n",
       "</div>"
      ],
      "text/plain": [
       "                    Models  r2 score\n",
       "0        Linear Regression  1.000000\n",
       "1                    Ridge  0.999514\n",
       "7                  xgboost  0.977101\n",
       "4  Random Forest Regressor  0.963144\n",
       "5  Decision Tree Regressor  0.935892\n",
       "6       AdaBoost Regressor  0.926122\n",
       "2                    Lasso  0.908561\n",
       "8    K Neighbors Regressor  0.889781\n",
       "3                      SVR  0.794029"
      ]
     },
     "execution_count": 66,
     "metadata": {},
     "output_type": "execute_result"
    }
   ],
   "source": [
    "result"
   ]
  },
  {
   "cell_type": "markdown",
   "metadata": {},
   "source": [
    "# Linear Regression"
   ]
  },
  {
   "cell_type": "code",
   "execution_count": 69,
   "metadata": {},
   "outputs": [
    {
     "name": "stdout",
     "output_type": "stream",
     "text": [
      "R2 score for Linear Regression is  100.0\n"
     ]
    }
   ],
   "source": [
    "lm=LinearRegression(fit_intercept=True)\n",
    "lm.fit(x_train,y_train)\n",
    "y_predl=lm.predict(x_test)\n",
    "score=r2_score(y_test,y_predl)*100\n",
    "\n",
    "print('R2 score for Linear Regression is ',score)"
   ]
  },
  {
   "cell_type": "markdown",
   "metadata": {},
   "source": [
    "## Plot y_test and y_pred"
   ]
  },
  {
   "cell_type": "code",
   "execution_count": 70,
   "metadata": {},
   "outputs": [
    {
     "data": {
      "image/png": "[encoded data removed]",
      "text/plain": [
       "<Figure size 640x480 with 1 Axes>"
      ]
     },
     "metadata": {},
     "output_type": "display_data"
    }
   ],
   "source": [
    "plt.scatter(y_test,y_predl)\n",
    "plt.xlabel('Actual Math Score')\n",
    "plt.ylabel('Predicted Math Score')\n",
    "plt.title('Actual vs Predicted Math Score')\n",
    "plt.show()"
   ]
  },
  {
   "cell_type": "code",
   "execution_count": 72,
   "metadata": {},
   "outputs": [
    {
     "data": {
      "text/plain": [
       "<Axes: xlabel='math score'>"
      ]
     },
     "execution_count": 72,
     "metadata": {},
     "output_type": "execute_result"
    },
    {
     "data": {
      "image/png": "[encoded data removed]",
      "text/plain": [
       "<Figure size 640x480 with 1 Axes>"
      ]
     },
     "metadata": {},
     "output_type": "display_data"
    }
   ],
   "source": [
    "sns.regplot(x=y_test,y=y_predl,ci=None,color='red')"
   ]
  },
  {
   "cell_type": "markdown",
   "metadata": {},
   "source": [
    "## Difference between Actual and Predicted"
   ]
  },
  {
   "cell_type": "code",
   "execution_count": 73,
   "metadata": {},
   "outputs": [
    {
     "data": {
      "text/html": [
       "<div>\n",
       "<style scoped>\n",
       "    .dataframe tbody tr th:only-of-type {\n",
       "        vertical-align: middle;\n",
       "    }\n",
       "\n",
       "    .dataframe tbody tr th {\n",
       "        vertical-align: top;\n",
       "    }\n",
       "\n",
       "    .dataframe thead th {\n",
       "        text-align: right;\n",
       "    }\n",
       "</style>\n",
       "<table border=\"1\" class=\"dataframe\">\n",
       "  <thead>\n",
       "    <tr style=\"text-align: right;\">\n",
       "      <th></th>\n",
       "      <th>Actual</th>\n",
       "      <th>Predicted</th>\n",
       "      <th>Difference</th>\n",
       "    </tr>\n",
       "  </thead>\n",
       "  <tbody>\n",
       "    <tr>\n",
       "      <th>521</th>\n",
       "      <td>91</td>\n",
       "      <td>91.0</td>\n",
       "      <td>-2.842171e-14</td>\n",
       "    </tr>\n",
       "    <tr>\n",
       "      <th>737</th>\n",
       "      <td>53</td>\n",
       "      <td>53.0</td>\n",
       "      <td>0.000000e+00</td>\n",
       "    </tr>\n",
       "    <tr>\n",
       "      <th>740</th>\n",
       "      <td>80</td>\n",
       "      <td>80.0</td>\n",
       "      <td>-1.421085e-14</td>\n",
       "    </tr>\n",
       "    <tr>\n",
       "      <th>660</th>\n",
       "      <td>74</td>\n",
       "      <td>74.0</td>\n",
       "      <td>-2.842171e-14</td>\n",
       "    </tr>\n",
       "    <tr>\n",
       "      <th>411</th>\n",
       "      <td>84</td>\n",
       "      <td>84.0</td>\n",
       "      <td>-5.684342e-14</td>\n",
       "    </tr>\n",
       "    <tr>\n",
       "      <th>...</th>\n",
       "      <td>...</td>\n",
       "      <td>...</td>\n",
       "      <td>...</td>\n",
       "    </tr>\n",
       "    <tr>\n",
       "      <th>408</th>\n",
       "      <td>52</td>\n",
       "      <td>52.0</td>\n",
       "      <td>4.263256e-14</td>\n",
       "    </tr>\n",
       "    <tr>\n",
       "      <th>332</th>\n",
       "      <td>62</td>\n",
       "      <td>62.0</td>\n",
       "      <td>2.842171e-14</td>\n",
       "    </tr>\n",
       "    <tr>\n",
       "      <th>208</th>\n",
       "      <td>74</td>\n",
       "      <td>74.0</td>\n",
       "      <td>-1.421085e-14</td>\n",
       "    </tr>\n",
       "    <tr>\n",
       "      <th>613</th>\n",
       "      <td>65</td>\n",
       "      <td>65.0</td>\n",
       "      <td>0.000000e+00</td>\n",
       "    </tr>\n",
       "    <tr>\n",
       "      <th>78</th>\n",
       "      <td>61</td>\n",
       "      <td>61.0</td>\n",
       "      <td>-1.421085e-14</td>\n",
       "    </tr>\n",
       "  </tbody>\n",
       "</table>\n",
       "<p>200 rows × 3 columns</p>\n",
       "</div>"
      ],
      "text/plain": [
       "     Actual  Predicted    Difference\n",
       "521      91       91.0 -2.842171e-14\n",
       "737      53       53.0  0.000000e+00\n",
       "740      80       80.0 -1.421085e-14\n",
       "660      74       74.0 -2.842171e-14\n",
       "411      84       84.0 -5.684342e-14\n",
       "..      ...        ...           ...\n",
       "408      52       52.0  4.263256e-14\n",
       "332      62       62.0  2.842171e-14\n",
       "208      74       74.0 -1.421085e-14\n",
       "613      65       65.0  0.000000e+00\n",
       "78       61       61.0 -1.421085e-14\n",
       "\n",
       "[200 rows x 3 columns]"
      ]
     },
     "execution_count": 73,
     "metadata": {},
     "output_type": "execute_result"
    }
   ],
   "source": [
    "df=pd.DataFrame({'Actual':y_test,'Predicted':y_predl,'Difference':y_test-y_predl})\n",
    "df"
   ]
  },
  {
   "cell_type": "code",
   "execution_count": null,
   "metadata": {},
   "outputs": [],
   "source": []
  }
 ],
 "metadata": {
  "kernelspec": {
   "display_name": "mvenv",
   "language": "python",
   "name": "python3"
  },
  "language_info": {
   "codemirror_mode": {
    "name": "ipython",
    "version": 3
   },
   "file_extension": ".py",
   "mimetype": "text/x-python",
   "name": "python",
   "nbconvert_exporter": "python",
   "pygments_lexer": "ipython3",
   "version": "3.12.5"
  }
 },
 "nbformat": 4,
 "nbformat_minor": 2
}
